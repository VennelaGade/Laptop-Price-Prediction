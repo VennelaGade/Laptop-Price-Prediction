{
 "cells": [
  {
   "cell_type": "code",
   "execution_count": null,
   "id": "25293759-ed3f-4dfb-8e89-2de4073ffa47",
   "metadata": {},
   "outputs": [],
   "source": [
    "pip install scikit-learn"
   ]
  },
  {
   "cell_type": "code",
   "execution_count": null,
   "id": "cc45a067-14a4-48ef-a155-a44dde910f1b",
   "metadata": {
    "id": "cc45a067-14a4-48ef-a155-a44dde910f1b"
   },
   "outputs": [],
   "source": [
    "# importing necessary modules\n",
    "\n",
    "import numpy as np\n",
    "import pandas as pd\n",
    "import matplotlib.pyplot as plt\n",
    "import seaborn as sns\n",
    "import warnings \n",
    "warnings.filterwarnings(\"ignore\")"
   ]
  },
  {
   "cell_type": "code",
   "execution_count": null,
   "id": "a672e8b5-3511-4fb1-b90e-5b63eb721693",
   "metadata": {
    "id": "a672e8b5-3511-4fb1-b90e-5b63eb721693",
    "outputId": "5d41599d-25ae-406f-9b01-b9f0882a7e51"
   },
   "outputs": [],
   "source": [
    "data=pd.read_csv('laptop.csv',encoding='UTF-8')         # importing the dataset using pandas\n",
    "data.head()                             # shows up first 5 rows of dataset"
   ]
  },
  {
   "cell_type": "code",
   "execution_count": null,
   "id": "7a6bdf61-38dc-4507-9406-48665675a9c5",
   "metadata": {
    "id": "7a6bdf61-38dc-4507-9406-48665675a9c5",
    "outputId": "e0c08ace-3701-47cc-8af1-51d64ee80142"
   },
   "outputs": [],
   "source": [
    "data.info()     # to know the information of the dataset"
   ]
  },
  {
   "cell_type": "code",
   "execution_count": null,
   "id": "ed794a0a-3df7-4184-8777-72528c7bf27e",
   "metadata": {
    "id": "ed794a0a-3df7-4184-8777-72528c7bf27e",
    "outputId": "014c75c3-7519-4936-9b68-d55e81c2cedc"
   },
   "outputs": [],
   "source": [
    "data=data.drop(['Unnamed: 0.1','Unnamed: 0'],axis=1)          # droping unnecessary columns\n",
    "data"
   ]
  },
  {
   "cell_type": "code",
   "execution_count": null,
   "id": "0c68b486-50db-4c36-9e0b-c2d6d34fff11",
   "metadata": {
    "id": "0c68b486-50db-4c36-9e0b-c2d6d34fff11",
    "outputId": "8ca45bb6-e11d-4d5d-d13c-fa2d2c3b7490"
   },
   "outputs": [],
   "source": [
    "data.shape"
   ]
  },
  {
   "cell_type": "code",
   "execution_count": null,
   "id": "79e6ea1a-3b95-49bc-b146-52b465ccd02f",
   "metadata": {
    "id": "79e6ea1a-3b95-49bc-b146-52b465ccd02f"
   },
   "outputs": [],
   "source": [
    "data.isnull().sum()"
   ]
  },
  {
   "cell_type": "code",
   "execution_count": null,
   "id": "31e9a3ec-470c-4ec6-bfe6-8d3abccd6744",
   "metadata": {},
   "outputs": [],
   "source": [
    "data.dropna(inplace=True)"
   ]
  },
  {
   "cell_type": "code",
   "execution_count": null,
   "id": "0ad65d03-3c93-4801-93d1-45f23f6bbe99",
   "metadata": {},
   "outputs": [],
   "source": [
    "data.duplicated().sum()"
   ]
  },
  {
   "cell_type": "code",
   "execution_count": null,
   "id": "05685494-ab72-4980-838d-98e2c9a87438",
   "metadata": {},
   "outputs": [],
   "source": [
    "data.drop_duplicates()"
   ]
  },
  {
   "cell_type": "code",
   "execution_count": null,
   "id": "4156818f-aba1-47be-8d9a-071c228a80e5",
   "metadata": {},
   "outputs": [],
   "source": [
    "data['Ram'] = data['Ram'].str.replace('GB','').astype('int32')\n",
    "data['Weight'] = data['Weight'].str.replace('kg','').astype('float32')\n",
    "data['Inches']=data['Inches'].str.replace('?','15.6').astype('float32')\n"
   ]
  },
  {
   "cell_type": "code",
   "execution_count": null,
   "id": "16be1ff3-8d00-4ace-97c5-aecbcb081477",
   "metadata": {},
   "outputs": [],
   "source": [
    "data['Inches'].mode()"
   ]
  },
  {
   "cell_type": "code",
   "execution_count": null,
   "id": "a42a76b2-36b2-4c9b-bf0c-e6f23d155e8a",
   "metadata": {},
   "outputs": [],
   "source": [
    "data.info()"
   ]
  },
  {
   "cell_type": "markdown",
   "id": "9b61fb57-e1a1-4348-bdf2-e668faf3ecda",
   "metadata": {},
   "source": [
    "# Exploratory data analysis"
   ]
  },
  {
   "cell_type": "code",
   "execution_count": null,
   "id": "d5dc4949-0fd3-4375-9493-c7210f7dfdb5",
   "metadata": {},
   "outputs": [],
   "source": [
    "# distribution of target column\n",
    "\n",
    "plt.figure(figsize=(10,4))\n",
    "sns.distplot(data['Price'],color='red')\n",
    "plt.show()"
   ]
  },
  {
   "cell_type": "code",
   "execution_count": null,
   "id": "21d8e5dd-7e38-494e-bf9c-d3ba078fcfd2",
   "metadata": {},
   "outputs": [],
   "source": [
    "#what is avg price of each brand?\n",
    "plt.figure(figsize=(10,4))\n",
    "sns.barplot(x=data['Company'], y=data['Price'])\n",
    "plt.xticks(rotation=\"vertical\")\n",
    "plt.show()"
   ]
  },
  {
   "cell_type": "code",
   "execution_count": null,
   "id": "0763e51b-8eac-4b39-af3a-d3fb9d2e4379",
   "metadata": {},
   "outputs": [],
   "source": [
    "data['TypeName'].value_counts()\n"
   ]
  },
  {
   "cell_type": "code",
   "execution_count": null,
   "id": "89b44f5a-8453-4950-a7f2-36b728cfa8f6",
   "metadata": {},
   "outputs": [],
   "source": [
    "# Type of Laptop\n",
    "sns.barplot(x=data['TypeName'], y=data['Price'])\n",
    "plt.xticks(rotation=\"vertical\")\n",
    "plt.show()\n"
   ]
  },
  {
   "cell_type": "code",
   "execution_count": null,
   "id": "8816f41d-a4de-494c-99a4-7c470aa5ddaf",
   "metadata": {},
   "outputs": [],
   "source": []
  },
  {
   "cell_type": "code",
   "execution_count": null,
   "id": "ab2103d3-be5c-4c31-83d9-6c6172e47be6",
   "metadata": {},
   "outputs": [],
   "source": [
    "# Price variation for different inches of laptops\n",
    "\n",
    "plt.figure(figsize=(15,7))\n",
    "sns.scatterplot(x = data['Inches'],y = data['Price'])\n",
    "plt.show()\n"
   ]
  },
  {
   "cell_type": "code",
   "execution_count": null,
   "id": "f0d6047e-dab4-4e0f-8219-baac97d86914",
   "metadata": {},
   "outputs": [],
   "source": [
    "# Screen resolution (Feature engineering)\n",
    "data['ScreenResolution'].value_counts()"
   ]
  },
  {
   "cell_type": "markdown",
   "id": "41969aa2-902c-4d90-a919-8683332c3339",
   "metadata": {},
   "source": [
    "# Creating new column : TouchScreen\n"
   ]
  },
  {
   "cell_type": "code",
   "execution_count": null,
   "id": "4c60a08e-6166-4bd5-a1df-694b93dc02d4",
   "metadata": {},
   "outputs": [],
   "source": [
    "data['TouchScreen'] = data['ScreenResolution'].apply(lambda element: 1 if 'Touchscreen' in element else 0)\n",
    "data.sample(10)\n"
   ]
  },
  {
   "cell_type": "code",
   "execution_count": null,
   "id": "73dbd611-bdd5-46d3-9842-7046b77dc36b",
   "metadata": {},
   "outputs": [],
   "source": [
    "data['TouchScreen'].value_counts()"
   ]
  },
  {
   "cell_type": "code",
   "execution_count": null,
   "id": "945b6df8-df2f-4dea-ab2f-3a14d24c5053",
   "metadata": {},
   "outputs": [],
   "source": [
    "plt.figure(figsize=(15,7))\n",
    "sns.countplot(x=data['TouchScreen'],palette='plasma')\n",
    "plt.show()"
   ]
  },
  {
   "cell_type": "code",
   "execution_count": null,
   "id": "38616348-5c38-42cb-a4d3-e4e8d1e657dc",
   "metadata": {},
   "outputs": [],
   "source": [
    "# Price variation on Touch screen laptops\n",
    "\n",
    "plt.figure(figsize=(10,4))\n",
    "sns.barplot(x = data['TouchScreen'],y = data['Price'])\n",
    "plt.xticks(rotation = 'vertical')\n",
    "plt.show()"
   ]
  },
  {
   "cell_type": "code",
   "execution_count": null,
   "id": "8e2b9234-4130-427b-852a-5d993d067c53",
   "metadata": {},
   "outputs": [],
   "source": [
    "#  Creating nuw column : IPS\n",
    "data['IPS'] = data['ScreenResolution'].apply(lambda element:1 if \"IPS\" in element else 0)\n",
    "data.sample(5)"
   ]
  },
  {
   "cell_type": "code",
   "execution_count": null,
   "id": "dbc3cf2b-c4fd-4cfc-8bad-e3b3d06ad561",
   "metadata": {},
   "outputs": [],
   "source": [
    "\n",
    "data['IPS'] = data['ScreenResolution'].apply(lambda x:1 if 'IPS' in x else 0)\n",
    "sns.barplot(x=data['IPS'],y=data['Price'])\n",
    "plt.show()"
   ]
  },
  {
   "cell_type": "code",
   "execution_count": null,
   "id": "1cdcac5a-e5ab-4ed1-b374-dde7269af22c",
   "metadata": {},
   "outputs": [],
   "source": [
    "def findXresolution(s):\n",
    "  return s.split()[-1].split(\"x\")[0]\n",
    "def findYresolution(s):\n",
    "  return s.split()[-1].split(\"x\")[1]\n",
    "\n",
    "#finding the x_res and y_res from screen resolution\n",
    "data['X_res'] = data['ScreenResolution'].apply(lambda x: findXresolution(x))\n",
    "data['Y_res'] = data['ScreenResolution'].apply(lambda y: findYresolution(y))\n",
    "\n",
    "#convert to numeric\n",
    "data['X_res'] = data['X_res'].astype('int')\n",
    "data['Y_res'] = data['Y_res'].astype('int')"
   ]
  },
  {
   "cell_type": "code",
   "execution_count": null,
   "id": "c0a212de-18ad-42dc-9b69-d20421d7fc7a",
   "metadata": {},
   "outputs": [],
   "source": [
    "data.info()"
   ]
  },
  {
   "cell_type": "code",
   "execution_count": null,
   "id": "904bf98a-65e6-4030-9dea-d72ef832c57a",
   "metadata": {},
   "outputs": [],
   "source": [
    "data['PPI'] = (((data['X_res']**2) + (data['Y_res']**2))**0.5/data['Inches']).astype('float')\n",
    "data.corr(numeric_only=True)['Price'].sort_values(ascending=False)"
   ]
  },
  {
   "cell_type": "code",
   "execution_count": null,
   "id": "adf88742-ed5f-4c41-a44f-f6768a286a7c",
   "metadata": {},
   "outputs": [],
   "source": [
    "plt.figure(figsize=(15,7))\n",
    "sns.heatmap(data.corr(numeric_only=True),annot=True,cmap='plasma')\n",
    "plt.show()"
   ]
  },
  {
   "cell_type": "code",
   "execution_count": null,
   "id": "1bc19342-71eb-4bb5-8702-fdacb0bd093b",
   "metadata": {},
   "outputs": [],
   "source": [
    "data.drop(columns = ['ScreenResolution', 'Inches','X_res','Y_res'], inplace=True)\n",
    "data.head()"
   ]
  },
  {
   "cell_type": "code",
   "execution_count": null,
   "id": "b50fda86-7efa-4b54-a414-d09039f69b7a",
   "metadata": {},
   "outputs": [],
   "source": [
    "# CPU Analysis\n",
    "data['Cpu'].value_counts()"
   ]
  },
  {
   "cell_type": "code",
   "execution_count": null,
   "id": "1ecf7b45-c4e7-44c0-af47-076ca54e2c98",
   "metadata": {},
   "outputs": [],
   "source": [
    "data['CPU'] = data['Cpu'].apply(lambda text:\" \".join(text.split()[:3]))\n",
    "data['CPU'].unique()"
   ]
  },
  {
   "cell_type": "code",
   "execution_count": null,
   "id": "da4ddb23-ddf2-475c-a39a-cceb5c02bd06",
   "metadata": {},
   "outputs": [],
   "source": [
    "def processortype(text):\n",
    "    if text=='Intel Core i7' or text=='Intel Core i5' or text=='Intel Core i3':\n",
    "        return text\n",
    "    else:\n",
    "        if text.split()[0]=='Intel':\n",
    "            return 'Other Intel Processor'\n",
    "        else:\n",
    "            return 'AMD Processor'\n",
    "    \n",
    "data['CPU'] = data['CPU'].apply(lambda text:processortype(text))\n",
    "data.head()"
   ]
  },
  {
   "cell_type": "code",
   "execution_count": null,
   "id": "9e4e125e-d8be-42a4-af09-af13117d337c",
   "metadata": {},
   "outputs": [],
   "source": [
    "plt.figure(figsize=(15,7))\n",
    "sns.countplot(x=data['CPU'],palette='plasma')\n",
    "plt.xticks(rotation = 'vertical')\n",
    "plt.show()\n"
   ]
  },
  {
   "cell_type": "code",
   "execution_count": null,
   "id": "c80470a2-750d-49ff-9855-67234946cf7a",
   "metadata": {},
   "outputs": [],
   "source": [
    "plt.figure(figsize=(15,7))\n",
    "sns.barplot(x=data['CPU'],y=data['Price'])\n",
    "plt.xticks(rotation = 'vertical')\n",
    "plt.show()"
   ]
  },
  {
   "cell_type": "code",
   "execution_count": null,
   "id": "dff5af06-42d6-4adc-9eee-7f321142629b",
   "metadata": {},
   "outputs": [],
   "source": [
    "data.drop(columns=['Cpu'],inplace=True)\n"
   ]
  },
  {
   "cell_type": "code",
   "execution_count": null,
   "id": "740f5548-49cb-433d-beda-9b996796acd4",
   "metadata": {},
   "outputs": [],
   "source": [
    "# RAM Analysis\n",
    "sns.countplot(x=data['Ram'],palette='autumn')\n",
    "plt.show()"
   ]
  },
  {
   "cell_type": "code",
   "execution_count": null,
   "id": "03128e96-4b5e-4d10-8748-e78ec4b58262",
   "metadata": {},
   "outputs": [],
   "source": [
    "plt.figure(figsize=(15,7))\n",
    "sns.barplot(x=data['Ram'],y=data['Price'])\n",
    "plt.show()\n"
   ]
  },
  {
   "cell_type": "code",
   "execution_count": null,
   "id": "8d80ae82-83b5-4bce-9a85-462e4c65d5f3",
   "metadata": {},
   "outputs": [],
   "source": [
    "# MEMORY column\n",
    "data['Memory'].value_counts()"
   ]
  },
  {
   "cell_type": "code",
   "execution_count": null,
   "id": "2651bd54-254a-4f29-9455-915aec2eaf9b",
   "metadata": {},
   "outputs": [],
   "source": [
    "data['Memory'] = data['Memory'].astype('str').replace('\\.0','',regex = True)\n",
    "data['Memory'] = data['Memory'].str.replace('GB','')\n",
    "data['Memory'] = data['Memory'].str.replace('TB','000')\n",
    "newdata = data['Memory'].str.split(\"+\",n = 1,expand = True)\n",
    "newdata"
   ]
  },
  {
   "cell_type": "code",
   "execution_count": null,
   "id": "e77496c7-7856-492b-9fa9-44ddaef4945f",
   "metadata": {},
   "outputs": [],
   "source": [
    "data['first'] = newdata[0]\n",
    "data['first'] = data['first'].str.strip()\n",
    "data.head()"
   ]
  },
  {
   "cell_type": "code",
   "execution_count": null,
   "id": "06660806-9507-451a-b5cd-d901aa65f7d2",
   "metadata": {},
   "outputs": [],
   "source": [
    "# Creating Layer 1 column for each memory type\n",
    "def applychanges(value):\n",
    "    data['Layer1'+value] = data['first'].apply(lambda x: 1 if value in x else 0)\n",
    "      \n",
    "listtoapply = ['HDD','SSD','Hybrid','Flash Storage']    \n",
    "for value in listtoapply:\n",
    "    applychanges(value)\n",
    "       \n",
    "data.sample(5)"
   ]
  },
  {
   "cell_type": "code",
   "execution_count": null,
   "id": "668017f3-f10a-4687-8a1a-768d4f016bb9",
   "metadata": {},
   "outputs": [],
   "source": [
    "# We will remove all the character and just keeping the numbers\n",
    "listtoapply = ['HDD','SSD','Hybrid','Flash Storage']    \n",
    "for value in listtoapply:\n",
    "    data['first'] = data['first'].str.replace(value,'')"
   ]
  },
  {
   "cell_type": "code",
   "execution_count": null,
   "id": "40a3f83d-b75e-41e0-a75d-8ee0e0f4aef1",
   "metadata": {},
   "outputs": [],
   "source": [
    "data['first'].value_counts()"
   ]
  },
  {
   "cell_type": "code",
   "execution_count": null,
   "id": "978a2d94-b565-442e-8334-1ccc306133ce",
   "metadata": {},
   "outputs": [],
   "source": [
    "data['Second'] = newdata[1]\n",
    "data.head()"
   ]
  },
  {
   "cell_type": "code",
   "execution_count": null,
   "id": "0aeeaa8f-f89b-4764-8776-a1f454a833c7",
   "metadata": {},
   "outputs": [],
   "source": [
    "#Creating Layer 2 column for each memory type\n",
    "def applychanges1(value):\n",
    "    data['Layer2'+value] = data['Second'].apply(lambda x:1 if value in x else 0)\n",
    "        \n",
    "listtoapply1 = ['HDD','SSD','Hybrid','FlashStorage']\n",
    "data['Second'] = data['Second'].fillna(\"0\")\n",
    "for value in listtoapply1:\n",
    "    applychanges1(value)\n",
    "#We will remove all the characters and just keeping the numbers again\n",
    "for value in listtoapply1:\n",
    "    data['Second'] = data['Second'].str.replace(value,'')\n",
    "    \n",
    "    \n",
    "data['Second'].value_counts()"
   ]
  },
  {
   "cell_type": "code",
   "execution_count": null,
   "id": "ad2ef9cb-6a99-4b5e-86de-5c1f797407a8",
   "metadata": {},
   "outputs": [],
   "source": [
    "data['Second'].unique()"
   ]
  },
  {
   "cell_type": "code",
   "execution_count": null,
   "id": "6c55815b-a906-4790-8c9b-a3332c7b03ff",
   "metadata": {},
   "outputs": [],
   "source": [
    "data['first']=data['first'].str.replace('?','256')"
   ]
  },
  {
   "cell_type": "code",
   "execution_count": null,
   "id": "285c16d9-8d34-40c3-bab0-4f72a745dcc0",
   "metadata": {},
   "outputs": [],
   "source": [
    "data['first'] = data['first'].astype('int')\n",
    "data['Second'] = data['Second'].astype('int')\n",
    "data.sample(10)"
   ]
  },
  {
   "cell_type": "code",
   "execution_count": null,
   "id": "6a6d8219-2a67-42af-9dfc-90e60eac6962",
   "metadata": {},
   "outputs": [],
   "source": [
    "# Multiplying the elements and storing in subsequent columns¶\n",
    "data[\"HDD\"]=(data[\"first\"]*data[\"Layer1HDD\"]+data[\"Second\"]*data[\"Layer2HDD\"])\n",
    "data[\"SSD\"]=(data[\"first\"]*data[\"Layer1SSD\"]+data[\"Second\"]*data[\"Layer2SSD\"])\n",
    "data[\"Hybrid\"]=(data[\"first\"]*data[\"Layer1Hybrid\"]+data[\"Second\"]*data[\"Layer2Hybrid\"])\n",
    "data[\"Flash_Storage\"]=(data[\"first\"]*data[\"Layer1Flash Storage\"]+data[\"Second\"]*data[\"Layer2FlashStorage\"])\n"
   ]
  },
  {
   "cell_type": "code",
   "execution_count": null,
   "id": "67205c2b-27bb-4aad-b05a-4cdd30d60de5",
   "metadata": {},
   "outputs": [],
   "source": [
    "# Dropping unecessary columns\n",
    "\n",
    "data.drop(columns=['first', 'Second', 'Layer1HDD', 'Layer1SSD', 'Layer1Hybrid',\n",
    "       'Layer1Flash Storage', 'Layer2HDD', 'Layer2SSD', 'Layer2Hybrid',\n",
    "       'Layer2FlashStorage'],inplace=True)"
   ]
  },
  {
   "cell_type": "code",
   "execution_count": null,
   "id": "e8b9c103-785c-4821-ad16-5ef45b51bf5b",
   "metadata": {},
   "outputs": [],
   "source": [
    "data.info()"
   ]
  },
  {
   "cell_type": "code",
   "execution_count": null,
   "id": "ea5d6b32-10f1-4dba-b5e5-2c75910170f9",
   "metadata": {},
   "outputs": [],
   "source": [
    "data.sample()"
   ]
  },
  {
   "cell_type": "code",
   "execution_count": null,
   "id": "f34a5715-f5b7-45e7-9320-3bdabd09709d",
   "metadata": {},
   "outputs": [],
   "source": [
    "data.drop(columns=['Hybrid','Flash_Storage','Memory'],inplace=True)\n",
    "data.sample()"
   ]
  },
  {
   "cell_type": "code",
   "execution_count": null,
   "id": "1ecd11bc-5310-47df-ab07-b39efcc6b215",
   "metadata": {},
   "outputs": [],
   "source": [
    "data['Gpu'].unique()"
   ]
  },
  {
   "cell_type": "code",
   "execution_count": null,
   "id": "4a421eac-a608-4689-8d58-e12d863ea782",
   "metadata": {},
   "outputs": [],
   "source": [
    "\n",
    "# Which brand GPU is in laptop\n",
    "plt.figure(figsize=(15,7))\n",
    "data['Gpu_brand'] = data['Gpu'].apply(lambda x:x.split()[0])\n",
    "sns.countplot(x=data['Gpu_brand'],palette='plasma')\n",
    "plt.show()"
   ]
  },
  {
   "cell_type": "code",
   "execution_count": null,
   "id": "72487e33-502c-4c69-a02c-b7109a221424",
   "metadata": {},
   "outputs": [],
   "source": [
    "data= data[data['Gpu_brand']!='ARM']\n",
    "plt.figure(figsize=(15,7))\n",
    "sns.barplot(x=data['Gpu_brand'],y=data['Price'],estimator=np.median)\n",
    "plt.show()\n"
   ]
  },
  {
   "cell_type": "code",
   "execution_count": null,
   "id": "f5b40aa1-ff89-4a6c-b573-3dec5d68efd2",
   "metadata": {},
   "outputs": [],
   "source": [
    "# Thankfully, this data doesn't make me go crazy. Next we can safely drop the old GPU column\n",
    "\n",
    "data = data.drop(columns=['Gpu'])\n",
    "data.head()"
   ]
  },
  {
   "cell_type": "code",
   "execution_count": null,
   "id": "04e59a0a-7b23-437e-bf9b-0207c9f21108",
   "metadata": {},
   "outputs": [],
   "source": [
    "data['OpSys'].unique()"
   ]
  },
  {
   "cell_type": "code",
   "execution_count": null,
   "id": "55a809bb-26e1-4dcd-bef7-b1a6bc9e6aa9",
   "metadata": {},
   "outputs": [],
   "source": [
    "# Barplot - Price variation on OS in laptops\n",
    "plt.figure(figsize=(15,7))\n",
    "sns.barplot(x=data['OpSys'],y=data['Price'])\n",
    "plt.xticks(rotation = 'vertical')\n",
    "plt.show()\n"
   ]
  },
  {
   "cell_type": "code",
   "execution_count": null,
   "id": "d40322f3-41d8-4025-81a2-ce912b359c13",
   "metadata": {},
   "outputs": [],
   "source": [
    "def OS_category(text):\n",
    "    if text=='Windows 10' or text=='Windows 7' or text=='Windows 10 S':\n",
    "        return 'Windows'\n",
    "    elif text=='Mac OS X' or text=='macOS':\n",
    "        return 'Mac'\n",
    "    else:\n",
    "        return 'Other'\n",
    "    \n",
    "data['OpSys'] = data['OpSys'].apply(lambda x:OS_category(x))\n",
    "data.head()"
   ]
  },
  {
   "cell_type": "code",
   "execution_count": null,
   "id": "c72ff6a1-5309-492e-8d7f-ed1df50cb7e0",
   "metadata": {
    "scrolled": true
   },
   "outputs": [],
   "source": [
    "\n",
    "sns.countplot(x=data['OpSys'],palette='plasma')\n",
    "plt.show()"
   ]
  },
  {
   "cell_type": "code",
   "execution_count": null,
   "id": "b9b4d8db-1dea-4746-aa67-63321c0444b0",
   "metadata": {},
   "outputs": [],
   "source": [
    "# Barplot - Price variation on OS types\n",
    "plt.figure(figsize=(15,7))\n",
    "sns.barplot(x = data['OpSys'],y = data['Price'])\n",
    "plt.show()"
   ]
  },
  {
   "cell_type": "code",
   "execution_count": null,
   "id": "fef6d068-1590-4b77-a746-4d2da6765301",
   "metadata": {},
   "outputs": [],
   "source": [
    "# Weight analysis\n",
    "# Distribution plot on weight column\n",
    "\n",
    "plt.figure(figsize=(10,4))\n",
    "sns.distplot(x=data['Weight'])\n",
    "plt.show()"
   ]
  },
  {
   "cell_type": "code",
   "execution_count": null,
   "id": "fbab0959-c17c-473b-b10e-d866eae7e9ec",
   "metadata": {},
   "outputs": [],
   "source": [
    "plt.figure(figsize=(10,5))\n",
    "sns.distplot(np.log(data['Price']))\n",
    "plt.show()\n"
   ]
  },
  {
   "cell_type": "code",
   "execution_count": null,
   "id": "f1c00b7f-29fa-4ef7-9782-6a16c0cf2fbc",
   "metadata": {},
   "outputs": [],
   "source": [
    "# Heatmap - Correlation for each features\n",
    "sns.heatmap(data.corr(numeric_only=True),annot=True,cmap='plasma')\n",
    "plt.show()\n"
   ]
  },
  {
   "cell_type": "code",
   "execution_count": null,
   "id": "a90e396d-93e7-42a8-9843-d51ee7372da4",
   "metadata": {},
   "outputs": [],
   "source": [
    "from sklearn.model_selection import train_test_split\n",
    "from sklearn.compose import ColumnTransformer\n",
    "from sklearn.pipeline import Pipeline\n",
    "from sklearn.preprocessing import OneHotEncoder\n",
    "from sklearn.metrics import r2_score,mean_absolute_error\n",
    "from sklearn.linear_model import LinearRegression\n",
    "from sklearn.ensemble import RandomForestRegressor,GradientBoostingRegressor\n",
    "from sklearn.model_selection import GridSearchCV,RandomizedSearchCV \n",
    "from sklearn.model_selection import RepeatedKFold"
   ]
  },
  {
   "cell_type": "code",
   "execution_count": null,
   "id": "841c397f-105d-4ca6-8cc5-2f15dea52f6a",
   "metadata": {},
   "outputs": [],
   "source": [
    "Y = np.log(data['Price'])\n",
    "X = data.drop(columns=['Price'],axis=1)\n",
    "\n",
    "\n",
    "X_train,X_test,Y_train,Y_test = train_test_split(X,Y,test_size=0.25,random_state=45)\n",
    "X_train.shape,X_test.shape"
   ]
  },
  {
   "cell_type": "code",
   "execution_count": null,
   "id": "5dde7b72-0db6-4cd2-93b7-70433cd1e5c5",
   "metadata": {},
   "outputs": [],
   "source": [
    "# Linear Regression \n",
    "step1 = ColumnTransformer(transformers=[('col_tnf',OneHotEncoder(sparse=False,drop='first'),[0,1,3,8,11])],remainder='passthrough')\n",
    "step2 = LinearRegression()\n",
    "pipe=Pipeline([('step1',step1),('step2',step2)])\n",
    "pipe.fit(X_train,Y_train)\n",
    "y_pred = pipe.predict(X_test)\n",
    "print('R2 score',r2_score(Y_test,y_pred))\n",
    "print('MAE',mean_absolute_error(Y_test,y_pred))"
   ]
  },
  {
   "cell_type": "code",
   "execution_count": null,
   "id": "4e83f804-80f0-4d2a-b2ce-f609b812d9ac",
   "metadata": {},
   "outputs": [],
   "source": [
    "# RandomForestRegressor\n",
    "\n",
    "step1 = ColumnTransformer(transformers=[('col_tnf',OneHotEncoder(sparse=False,drop='first'),[0,1,3,8,11])],remainder='passthrough')\n",
    "step2 = RandomForestRegressor(n_estimators=100,random_state=3,max_samples=0.5,max_features=0.75,max_depth=15)\n",
    "pipe = Pipeline([('step1',step1),('step2',step2)])\n",
    "pipe.fit(X_train,Y_train)\n",
    "y_pred = pipe.predict(X_test)\n",
    "print('R2 score',r2_score(Y_test,y_pred))\n",
    "print('MAE',mean_absolute_error(Y_test,y_pred))"
   ]
  },
  {
   "cell_type": "code",
   "execution_count": null,
   "id": "d710be54-e218-4165-83b0-703e6a86ae99",
   "metadata": {},
   "outputs": [],
   "source": [
    "step1 = ColumnTransformer(transformers=[('col_tnf',OneHotEncoder(sparse=False,drop='first'),[0,1,3,8,11])],remainder='passthrough')\n",
    "step2 = GradientBoostingRegressor(n_estimators=100)\n",
    "pipe = Pipeline([('step1',step1),('step2',step2)])\n",
    "pipe.fit(X_train,Y_train)\n",
    "y_pred = pipe.predict(X_test)\n",
    "print('R2 score',r2_score(Y_test,y_pred))\n",
    "print('MAE',mean_absolute_error(Y_test,y_pred))"
   ]
  },
  {
   "cell_type": "code",
   "execution_count": null,
   "id": "51e30114-30fb-4774-ba43-8f1f8f005924",
   "metadata": {},
   "outputs": [],
   "source": [
    "data.info()\n"
   ]
  },
  {
   "cell_type": "code",
   "execution_count": null,
   "id": "06503280-b3b4-41ff-be9a-6cc90e59bca3",
   "metadata": {},
   "outputs": [],
   "source": [
    "data.info()\n"
   ]
  },
  {
   "cell_type": "code",
   "execution_count": null,
   "id": "789a7dc9-a914-4664-9b37-0ba132c524ae",
   "metadata": {},
   "outputs": [],
   "source": [
    "import joblib\n",
    "\n",
    "# Assuming 'data' is your trained machine learning model\n",
    "joblib.dump(data, 'laptop_price_model.pkl')\n"
   ]
  },
  {
   "cell_type": "code",
   "execution_count": null,
   "id": "7ed606ce-0b15-4adb-9455-e275194cc42f",
   "metadata": {},
   "outputs": [],
   "source": [
    "!pip install streamlit"
   ]
  },
  {
   "cell_type": "code",
   "execution_count": null,
   "id": "b4eb2ff2-a221-4f81-8c37-505d970a6406",
   "metadata": {},
   "outputs": [],
   "source": [
    "!streamlit run streamlit_app.py"
   ]
  },
  {
   "cell_type": "code",
   "execution_count": null,
   "id": "444ca4d0-66da-4af7-bdf0-e10e6a8e3e1f",
   "metadata": {},
   "outputs": [],
   "source": []
  }
 ],
 "metadata": {
  "colab": {
   "provenance": []
  },
  "kernelspec": {
   "display_name": "Python 3 (ipykernel)",
   "language": "python",
   "name": "python3"
  },
  "language_info": {
   "codemirror_mode": {
    "name": "ipython",
    "version": 3
   },
   "file_extension": ".py",
   "mimetype": "text/x-python",
   "name": "python",
   "nbconvert_exporter": "python",
   "pygments_lexer": "ipython3",
   "version": "3.11.7"
  }
 },
 "nbformat": 4,
 "nbformat_minor": 5
}
